{
 "cells": [
  {
   "cell_type": "markdown",
   "metadata": {},
   "source": [
    "# Gradients and Hessians without tears: Demonstration of automatic differentiation in Python using autograd\n",
    "\n",
    "## Purpose\n",
    "This document demonstrates how to use automatic differentiation in Python using the autograd package. If you want to know more about automatic differentiation [here](https://slides.com/robsal/autodiff/fullscreen) are some great resources (disclaimer: The author is my friend): \n",
    "\n",
    "## Example\n",
    "A simple example with a simulated Poisson regression dataset is used for illustration. The idea is to estimate the parameters using the maximum likelihood method, which requires the gradient and Hessian of the model. <font color='red'>Personal opinion</font>: Students should learn how to obtain maximum likelihood estimates (MLE) by numerical optimisation. \n",
    "\n",
    "## Model and estimation \n",
    "The Poisson regression model is $$p(y_i|\\beta,x_i)= \\frac{\\mu_i^{y_i}\\exp(-\\mu_i)}{y_i!}, y_i \\in \\mathbb{Z}^+,$$\n",
    "where $\\mu_i = \\exp(x_i^\\top \\beta) \\geq 0$. Note that $\\mathrm{E}(y_i|\\beta,x_i)=\\mu_i$.\n",
    "\n",
    "The log-likelihood based on $y=(y_1, \\dots, y_n)$ independent observations is \n",
    "$$\\ell(\\beta|y) = \\sum_{i=1}^n \\log p(y_i|\\beta,x_i) = \\sum_{i=1}^n {y_i}\\log(\\mu_i)-\\mu_i-\\log(y_i!).$$\n",
    "The maximum likelihood estimator is defined as\n",
    "$$\\beta^\\star = \\underset{\\beta}{\\operatorname{argmax}} \\ell(\\beta|y),$$\n",
    "and under some regularity conditions it can be shown that\n",
    "$$\\mathrm{V}(\\beta^\\star) = -\\left( \\nabla \\nabla^\\top \\ell(\\beta^\\star|y) \\right)^{-1}.$$\n",
    "\n",
    "## Optimisation\n",
    "We obtain the MLE using gradient ascent. Starting from $\\beta^{(0)}$, we iterate\n",
    "$$\\beta^{(j)} = \\beta^{(j-1)} + \\gamma \\nabla \\ell(\\beta^{(j-1)}|y) $$\n",
    "where $\\gamma > 0$ is the step-size, until some convergence criteria is met.\n",
    "\n",
    "It can be shown that if $\\gamma$ mimics the local curvature (given by the Hessian) of the objective function, then the optimisation achieves optimal convergence rate. This happens when $\\gamma = -\\left(\\nabla \\nabla^\\top \\ell(\\beta|y)\\right)^{-1}$, in case this is known as <font color='red'>Newton's method</font>, or <font color='red'>Newton-Raphson method</font>.\n",
    "\n",
    "## Task\n",
    "To carry out the optimisation we need the gradient and the Hessian of the model, which we <font color='red'>compute using automatic differentiation</font>. \n",
    "\n",
    "Why bother?\n",
    "- No need to derive gradients or Hessians by hand. The chain-rule can be a pain, especially in the vector calculus world.\n",
    "- <font color='red'>Much faster than numerical gradients and Hessians obtained by finite difference methods</font>. Automatic differentiation is basically the computer's way of doing the chain-rule.\n",
    "- Works on EVERYTHING <font color='red'></font> (that I have tried) as long as the functions used are implemented in NumPy or SciPy. Beyond NumPy/SciPy possible too, but I have not tried. \n",
    "- You can also use an already available optimiser (e.g. optimize in SciPy). This optimiser will use finite differences if you do not supply the gradient and Hessian yourself --- autograd is very useful here!"
   ]
  },
  {
   "cell_type": "markdown",
   "metadata": {},
   "source": [
    "# Let's get started"
   ]
  },
  {
   "cell_type": "markdown",
   "metadata": {},
   "source": [
    "Install required package and import a bunch of packages "
   ]
  },
  {
   "cell_type": "code",
   "execution_count": 1,
   "metadata": {},
   "outputs": [
    {
     "name": "stdout",
     "output_type": "stream",
     "text": [
      "Collecting package metadata (current_repodata.json): done\n",
      "Solving environment: done\n",
      "\n",
      "## Package Plan ##\n",
      "\n",
      "  environment location: /home/mv/anaconda3\n",
      "\n",
      "  added / updated specs:\n",
      "    - autograd\n",
      "\n",
      "\n",
      "The following packages will be downloaded:\n",
      "\n",
      "    package                    |            build\n",
      "    ---------------------------|-----------------\n",
      "    autograd-1.3               |     pyhd3eb1b0_1          43 KB\n",
      "    conda-4.12.0               |   py38h06a4308_0        14.5 MB\n",
      "    ------------------------------------------------------------\n",
      "                                           Total:        14.5 MB\n",
      "\n",
      "The following NEW packages will be INSTALLED:\n",
      "\n",
      "  autograd           pkgs/main/noarch::autograd-1.3-pyhd3eb1b0_1\n",
      "\n",
      "The following packages will be UPDATED:\n",
      "\n",
      "  conda                               4.10.1-py38h06a4308_1 --> 4.12.0-py38h06a4308_0\n",
      "\n",
      "\n",
      "\n",
      "Downloading and Extracting Packages\n",
      "conda-4.12.0         | 14.5 MB   | ##################################### | 100% \n",
      "autograd-1.3         | 43 KB     | ##################################### | 100% \n",
      "Preparing transaction: done\n",
      "Verifying transaction: done\n",
      "Executing transaction: done\n"
     ]
    }
   ],
   "source": [
    "import sys\n",
    "!conda install --yes --prefix {sys.prefix} autograd"
   ]
  },
  {
   "cell_type": "code",
   "execution_count": 2,
   "metadata": {},
   "outputs": [],
   "source": [
    "from autograd import grad, hessian # Automatic differentiation functions\n",
    "import autograd.numpy as np # Important to use autograd's numpy and scipy if we want to take derivatives.\n",
    "import autograd.scipy.stats as autograd_sps\n",
    "import autograd.scipy.special as sc_autograd\n",
    "from scipy.special import factorial\n",
    "import scipy.stats as sps\n",
    "import matplotlib.pyplot as plt\n",
    "np.random.seed(123)"
   ]
  },
  {
   "cell_type": "markdown",
   "metadata": {},
   "source": [
    "## Simulate a dataset"
   ]
  },
  {
   "cell_type": "code",
   "execution_count": 3,
   "metadata": {},
   "outputs": [],
   "source": [
    "n = 1000\n",
    "true_params = np.array([2.5, 0.7])\n",
    "X = np.hstack((np.ones((n, 1)), np.linspace(0, 3, n).reshape(-1, 1)))\n",
    "y = sps.poisson.rvs(np.exp(np.dot(X, true_params))) # Model: y_i \\sim Poisson(exp(beta_1*x_i1 + beta_2*x_i2)), first x_i1 = 1"
   ]
  },
  {
   "cell_type": "code",
   "execution_count": 4,
   "metadata": {},
   "outputs": [
    {
     "data": {
      "text/plain": [
       "[<matplotlib.lines.Line2D at 0x7f4455f420a0>]"
      ]
     },
     "execution_count": 4,
     "metadata": {},
     "output_type": "execute_result"
    },
    {
     "data": {
      "image/png": "[encoded data removed]",
      "text/plain": [
       "<Figure size 432x288 with 1 Axes>"
      ]
     },
     "metadata": {
      "needs_background": "light"
     },
     "output_type": "display_data"
    }
   ],
   "source": [
    "plt.plot(X[:, 1], y, '.')"
   ]
  },
  {
   "cell_type": "markdown",
   "metadata": {},
   "source": [
    "## Estimate parameters\n",
    "- Write up the log-likelihood function.\n",
    "- Compute the gradient and Hessian.\n",
    "- Optimise the log-likelihood function."
   ]
  },
  {
   "cell_type": "code",
   "execution_count": 5,
   "metadata": {},
   "outputs": [
    {
     "name": "stdout",
     "output_type": "stream",
     "text": [
      "-3196.612577757235\n",
      "-108297.42917675708\n",
      "-3196.6125777572356\n",
      "-108297.42917675708\n"
     ]
    }
   ],
   "source": [
    "def log_likelihood_function(beta, X, y):\n",
    "    mu = np.exp(np.dot(X, beta))\n",
    "    return(np.sum(y*np.log(mu) - mu - np.log(factorial(y))))\n",
    "\n",
    "# For the (extremely) lazy one\n",
    "def log_likelihood_function_lazy(beta, X, y):\n",
    "    mu = np.exp(np.dot(X, beta))\n",
    "    return(np.sum(autograd_sps.poisson.logpmf(y, mu)))\n",
    "\n",
    "# Test evaluating the function at true_params:\n",
    "print(log_likelihood_function(true_params, X, y))\n",
    "print(log_likelihood_function(0.1*true_params, X, y)) # should be much smaller\n",
    "\n",
    "print(log_likelihood_function_lazy(true_params, X, y))\n",
    "print(log_likelihood_function_lazy(0.1*true_params, X, y)) # should be much smaller\n"
   ]
  },
  {
   "cell_type": "markdown",
   "metadata": {},
   "source": [
    "## This is literally all we need to do!"
   ]
  },
  {
   "cell_type": "code",
   "execution_count": 6,
   "metadata": {},
   "outputs": [],
   "source": [
    "# Compute gradient and Hessian by automatic differentiation:\n",
    "grad_beta = grad(log_likelihood_function, 0)\n",
    "Hess_beta = hessian(log_likelihood_function, 0)"
   ]
  },
  {
   "cell_type": "markdown",
   "metadata": {},
   "source": [
    "## Gradient Ascent method with fixed step-size"
   ]
  },
  {
   "cell_type": "code",
   "execution_count": 7,
   "metadata": {},
   "outputs": [
    {
     "name": "stdout",
     "output_type": "stream",
     "text": [
      "Maximum achieved in 1590 iterations\n",
      "Maximum Likelihood Estimator [2.4987868  0.69896806]\n",
      "Variance covariance matrix\n",
      "[[ 1.80543122e-04 -7.85883096e-05]\n",
      " [-7.85883096e-05  3.94846787e-05]]\n",
      "True parameters [2.5 0.7]\n"
     ]
    }
   ],
   "source": [
    "# Gradient ascent method. Go in the direction of the gradient\n",
    "beta_old = np.zeros(2)\n",
    "gamma = 0.000001  # Step size multiplier\n",
    "precision = 0.00001  # Desired precision of result\n",
    "max_iters = 10000  # Maximum number of iterations\n",
    "   \n",
    "for i in range(max_iters):\n",
    "    beta_new = beta_old + gamma * grad_beta(beta_old, X, y)\n",
    "    step = beta_new - beta_old\n",
    "    if np.linalg.norm(step) <= precision:\n",
    "        break\n",
    "    beta_old = beta_new\n",
    "\n",
    "if i == (max_iters - 1):\n",
    "    print(\"Careful as optimiser has not met termination criteria\")\n",
    "else:   \n",
    "    print(\"Maximum achieved in %s iterations\" % (i+1))   \n",
    "    print(\"Maximum Likelihood Estimator\", beta_new)\n",
    "    print(\"Variance covariance matrix\")\n",
    "    print(-np.linalg.inv(Hess_beta(beta_new, X, y)))\n",
    "    print(\"True parameters\", true_params)"
   ]
  },
  {
   "cell_type": "markdown",
   "metadata": {},
   "source": [
    "## Newton's method. Much faster!"
   ]
  },
  {
   "cell_type": "code",
   "execution_count": 8,
   "metadata": {},
   "outputs": [
    {
     "name": "stdout",
     "output_type": "stream",
     "text": [
      "Maximum achieved in 80 iterations\n",
      "Maximum Likelihood Estimator [2.50074503 0.69809422]\n",
      "Variance covariance matrix\n",
      "[[ 1.80343661e-04 -7.85118181e-05]\n",
      " [-7.85118181e-05  3.94568345e-05]]\n",
      "True parameters [2.5 0.7]\n"
     ]
    }
   ],
   "source": [
    "# Alternative (faster) optimiser using Newton-Raphson. Adaptive (to the curvature of the function) step size multiplier\n",
    "beta_old = np.zeros(2)\n",
    "precision = 0.00001  # Desired precision of result\n",
    "max_iters = 10000  # Maximum number of iterations\n",
    "   \n",
    "for i in range(max_iters):\n",
    "    beta_new = beta_old + np.linalg.solve(-Hess_beta(beta_old, X, y),  grad_beta(beta_old, X, y))\n",
    "    step = beta_new - beta_old\n",
    "    if np.linalg.norm(step) <= precision:\n",
    "        break\n",
    "    beta_old = beta_new\n",
    "\n",
    "if i == (max_iters - 1):\n",
    "    print(\"Careful as optimiser has not met termination criteria\")\n",
    "else:   \n",
    "    print(\"Maximum achieved in %s iterations\" % (i+1))   \n",
    "    print(\"Maximum Likelihood Estimator\", beta_new)\n",
    "    print(\"Variance covariance matrix\")\n",
    "    print(-np.linalg.inv(Hess_beta(beta_new, X, y)))\n",
    "    print(\"True parameters\", true_params)"
   ]
  },
  {
   "cell_type": "markdown",
   "metadata": {},
   "source": [
    "# Just for fun, let's inspect the fit"
   ]
  },
  {
   "cell_type": "code",
   "execution_count": 9,
   "metadata": {},
   "outputs": [
    {
     "data": {
      "text/plain": [
       "[<matplotlib.lines.Line2D at 0x7f4454669820>]"
      ]
     },
     "execution_count": 9,
     "metadata": {},
     "output_type": "execute_result"
    },
    {
     "data": {
      "image/png": "[encoded data removed]",
      "text/plain": [
       "<Figure size 432x288 with 1 Axes>"
      ]
     },
     "metadata": {
      "needs_background": "light"
     },
     "output_type": "display_data"
    }
   ],
   "source": [
    "nFit = 100000\n",
    "Xtilde = np.hstack((np.ones((n, 1)), np.linspace(0, 3, n).reshape(-1, 1)))\n",
    "y_fit = np.exp(np.dot(X, beta_new))\n",
    "plt.plot(X[:, 1], y, '.')\n",
    "plt.plot(Xtilde[:, 1], y_fit, '-', color = 'red')"
   ]
  },
  {
   "cell_type": "code",
   "execution_count": null,
   "metadata": {},
   "outputs": [],
   "source": []
  }
 ],
 "metadata": {
  "kernelspec": {
   "display_name": "Python 3 (ipykernel)",
   "language": "python",
   "name": "python3"
  },
  "language_info": {
   "codemirror_mode": {
    "name": "ipython",
    "version": 3
   },
   "file_extension": ".py",
   "mimetype": "text/x-python",
   "name": "python",
   "nbconvert_exporter": "python",
   "pygments_lexer": "ipython3",
   "version": "3.8.8"
  }
 },
 "nbformat": 4,
 "nbformat_minor": 4
}
